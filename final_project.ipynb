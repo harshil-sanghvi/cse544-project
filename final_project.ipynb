{
 "cells": [
  {
   "cell_type": "markdown",
   "id": "f1226b13",
   "metadata": {},
   "source": [
    "## CSE 544: Probability & Statistics for Data Science – Spring 2025  \n",
    "**Instructor:** Anshul Gandhi  \n",
    "**Project Type:** Mini Group Project – Semester-end submission\n",
    "\n",
    "### Group Information  \n",
    "**Group Submitter:** Abhishek Kohli (SBU ID: 116652139)  \n",
    "**Group Members:**  \n",
    "- Dhruv Kunjadiya (SBU ID: 116248529)  \n",
    "- Divyaank Tiwari (SBU ID: 115765038)  \n",
    "- Harshil Snehalkumar Sanghvi (SBU ID: 115381322)\n",
    "\n",
    "**Data Split Used:** `split_03.csv`"
   ]
  },
  {
   "cell_type": "code",
   "execution_count": 1,
   "id": "332b8153",
   "metadata": {},
   "outputs": [],
   "source": [
    "import pandas as pd\n",
    "import matplotlib.pyplot as plt\n",
    "import seaborn as sns\n",
    "from scipy.stats import kstest, norm, ks_2samp, ttest_ind\n",
    "import numpy as np\n",
    "import itertools as it"
   ]
  },
  {
   "cell_type": "code",
   "execution_count": 2,
   "id": "fe7912b0",
   "metadata": {},
   "outputs": [],
   "source": [
    "df = pd.read_csv('split_03.csv')"
   ]
  },
  {
   "cell_type": "code",
   "execution_count": 3,
   "id": "e33278e5",
   "metadata": {},
   "outputs": [
    {
     "data": {
      "text/html": [
       "<div>\n",
       "<style scoped>\n",
       "    .dataframe tbody tr th:only-of-type {\n",
       "        vertical-align: middle;\n",
       "    }\n",
       "\n",
       "    .dataframe tbody tr th {\n",
       "        vertical-align: top;\n",
       "    }\n",
       "\n",
       "    .dataframe thead th {\n",
       "        text-align: right;\n",
       "    }\n",
       "</style>\n",
       "<table border=\"1\" class=\"dataframe\">\n",
       "  <thead>\n",
       "    <tr style=\"text-align: right;\">\n",
       "      <th></th>\n",
       "      <th>legId</th>\n",
       "      <th>searchDate</th>\n",
       "      <th>flightDate</th>\n",
       "      <th>startingAirport</th>\n",
       "      <th>destinationAirport</th>\n",
       "      <th>fareBasisCode</th>\n",
       "      <th>travelDuration</th>\n",
       "      <th>elapsedDays</th>\n",
       "      <th>isBasicEconomy</th>\n",
       "      <th>isRefundable</th>\n",
       "      <th>...</th>\n",
       "      <th>segmentsArrivalTimeEpochSeconds</th>\n",
       "      <th>segmentsArrivalTimeRaw</th>\n",
       "      <th>segmentsArrivalAirportCode</th>\n",
       "      <th>segmentsDepartureAirportCode</th>\n",
       "      <th>segmentsAirlineName</th>\n",
       "      <th>segmentsAirlineCode</th>\n",
       "      <th>segmentsEquipmentDescription</th>\n",
       "      <th>segmentsDurationInSeconds</th>\n",
       "      <th>segmentsDistance</th>\n",
       "      <th>segmentsCabinCode</th>\n",
       "    </tr>\n",
       "  </thead>\n",
       "  <tbody>\n",
       "    <tr>\n",
       "      <th>0</th>\n",
       "      <td>980370cf27c89b40d2833a1d5afc9751</td>\n",
       "      <td>2022-04-16</td>\n",
       "      <td>2022-04-17</td>\n",
       "      <td>ATL</td>\n",
       "      <td>BOS</td>\n",
       "      <td>LA0NX0MC</td>\n",
       "      <td>PT2H34M</td>\n",
       "      <td>0</td>\n",
       "      <td>False</td>\n",
       "      <td>False</td>\n",
       "      <td>...</td>\n",
       "      <td>1650213180</td>\n",
       "      <td>2022-04-17T12:33:00.000-04:00</td>\n",
       "      <td>BOS</td>\n",
       "      <td>ATL</td>\n",
       "      <td>Delta</td>\n",
       "      <td>DL</td>\n",
       "      <td>Airbus A321</td>\n",
       "      <td>9240</td>\n",
       "      <td>947</td>\n",
       "      <td>coach</td>\n",
       "    </tr>\n",
       "    <tr>\n",
       "      <th>1</th>\n",
       "      <td>43eaa7e045b3e8a3157e5e38a31696c9</td>\n",
       "      <td>2022-04-16</td>\n",
       "      <td>2022-04-17</td>\n",
       "      <td>ATL</td>\n",
       "      <td>BOS</td>\n",
       "      <td>HA0QA0MQ</td>\n",
       "      <td>PT2H35M</td>\n",
       "      <td>0</td>\n",
       "      <td>False</td>\n",
       "      <td>False</td>\n",
       "      <td>...</td>\n",
       "      <td>1650243840</td>\n",
       "      <td>2022-04-17T21:04:00.000-04:00</td>\n",
       "      <td>BOS</td>\n",
       "      <td>ATL</td>\n",
       "      <td>Delta</td>\n",
       "      <td>DL</td>\n",
       "      <td>Airbus A321</td>\n",
       "      <td>9300</td>\n",
       "      <td>947</td>\n",
       "      <td>coach</td>\n",
       "    </tr>\n",
       "    <tr>\n",
       "      <th>2</th>\n",
       "      <td>dc2eda19b0499170f1f7f8c5a179ac07</td>\n",
       "      <td>2022-04-16</td>\n",
       "      <td>2022-04-17</td>\n",
       "      <td>ATL</td>\n",
       "      <td>CLT</td>\n",
       "      <td>M0AHZNN1</td>\n",
       "      <td>PT1H22M</td>\n",
       "      <td>0</td>\n",
       "      <td>False</td>\n",
       "      <td>False</td>\n",
       "      <td>...</td>\n",
       "      <td>1650238620</td>\n",
       "      <td>2022-04-17T19:37:00.000-04:00</td>\n",
       "      <td>CLT</td>\n",
       "      <td>ATL</td>\n",
       "      <td>American Airlines</td>\n",
       "      <td>AA</td>\n",
       "      <td>Canadian Regional Jet 700</td>\n",
       "      <td>4920</td>\n",
       "      <td>228</td>\n",
       "      <td>coach</td>\n",
       "    </tr>\n",
       "    <tr>\n",
       "      <th>3</th>\n",
       "      <td>4cf3ae8112e707a55d98c1fcd488c7b4</td>\n",
       "      <td>2022-04-16</td>\n",
       "      <td>2022-04-17</td>\n",
       "      <td>ATL</td>\n",
       "      <td>DEN</td>\n",
       "      <td>QA0NA0MQ</td>\n",
       "      <td>PT3H17M</td>\n",
       "      <td>0</td>\n",
       "      <td>False</td>\n",
       "      <td>False</td>\n",
       "      <td>...</td>\n",
       "      <td>1650244500</td>\n",
       "      <td>2022-04-17T19:15:00.000-06:00</td>\n",
       "      <td>DEN</td>\n",
       "      <td>ATL</td>\n",
       "      <td>Delta</td>\n",
       "      <td>DL</td>\n",
       "      <td>Airbus A321</td>\n",
       "      <td>11820</td>\n",
       "      <td>1207</td>\n",
       "      <td>coach</td>\n",
       "    </tr>\n",
       "    <tr>\n",
       "      <th>4</th>\n",
       "      <td>ba84d3c3f0a54f0016d23774182b1150</td>\n",
       "      <td>2022-04-16</td>\n",
       "      <td>2022-04-17</td>\n",
       "      <td>ATL</td>\n",
       "      <td>DEN</td>\n",
       "      <td>QA0NA0MQ</td>\n",
       "      <td>PT3H20M</td>\n",
       "      <td>0</td>\n",
       "      <td>False</td>\n",
       "      <td>False</td>\n",
       "      <td>...</td>\n",
       "      <td>1650258000</td>\n",
       "      <td>2022-04-17T23:00:00.000-06:00</td>\n",
       "      <td>DEN</td>\n",
       "      <td>ATL</td>\n",
       "      <td>Delta</td>\n",
       "      <td>DL</td>\n",
       "      <td>Airbus A321</td>\n",
       "      <td>12000</td>\n",
       "      <td>1207</td>\n",
       "      <td>coach</td>\n",
       "    </tr>\n",
       "  </tbody>\n",
       "</table>\n",
       "<p>5 rows × 27 columns</p>\n",
       "</div>"
      ],
      "text/plain": [
       "                              legId  searchDate  flightDate startingAirport  \\\n",
       "0  980370cf27c89b40d2833a1d5afc9751  2022-04-16  2022-04-17             ATL   \n",
       "1  43eaa7e045b3e8a3157e5e38a31696c9  2022-04-16  2022-04-17             ATL   \n",
       "2  dc2eda19b0499170f1f7f8c5a179ac07  2022-04-16  2022-04-17             ATL   \n",
       "3  4cf3ae8112e707a55d98c1fcd488c7b4  2022-04-16  2022-04-17             ATL   \n",
       "4  ba84d3c3f0a54f0016d23774182b1150  2022-04-16  2022-04-17             ATL   \n",
       "\n",
       "  destinationAirport fareBasisCode travelDuration  elapsedDays  \\\n",
       "0                BOS      LA0NX0MC        PT2H34M            0   \n",
       "1                BOS      HA0QA0MQ        PT2H35M            0   \n",
       "2                CLT      M0AHZNN1        PT1H22M            0   \n",
       "3                DEN      QA0NA0MQ        PT3H17M            0   \n",
       "4                DEN      QA0NA0MQ        PT3H20M            0   \n",
       "\n",
       "   isBasicEconomy  isRefundable  ...  segmentsArrivalTimeEpochSeconds  \\\n",
       "0           False         False  ...                       1650213180   \n",
       "1           False         False  ...                       1650243840   \n",
       "2           False         False  ...                       1650238620   \n",
       "3           False         False  ...                       1650244500   \n",
       "4           False         False  ...                       1650258000   \n",
       "\n",
       "          segmentsArrivalTimeRaw  segmentsArrivalAirportCode  \\\n",
       "0  2022-04-17T12:33:00.000-04:00                         BOS   \n",
       "1  2022-04-17T21:04:00.000-04:00                         BOS   \n",
       "2  2022-04-17T19:37:00.000-04:00                         CLT   \n",
       "3  2022-04-17T19:15:00.000-06:00                         DEN   \n",
       "4  2022-04-17T23:00:00.000-06:00                         DEN   \n",
       "\n",
       "   segmentsDepartureAirportCode  segmentsAirlineName segmentsAirlineCode  \\\n",
       "0                           ATL                Delta                  DL   \n",
       "1                           ATL                Delta                  DL   \n",
       "2                           ATL    American Airlines                  AA   \n",
       "3                           ATL                Delta                  DL   \n",
       "4                           ATL                Delta                  DL   \n",
       "\n",
       "  segmentsEquipmentDescription segmentsDurationInSeconds segmentsDistance  \\\n",
       "0                  Airbus A321                      9240              947   \n",
       "1                  Airbus A321                      9300              947   \n",
       "2    Canadian Regional Jet 700                      4920              228   \n",
       "3                  Airbus A321                     11820             1207   \n",
       "4                  Airbus A321                     12000             1207   \n",
       "\n",
       "  segmentsCabinCode  \n",
       "0             coach  \n",
       "1             coach  \n",
       "2             coach  \n",
       "3             coach  \n",
       "4             coach  \n",
       "\n",
       "[5 rows x 27 columns]"
      ]
     },
     "execution_count": 3,
     "metadata": {},
     "output_type": "execute_result"
    }
   ],
   "source": [
    "df.head()"
   ]
  },
  {
   "cell_type": "code",
   "execution_count": 4,
   "id": "aebae9a8",
   "metadata": {},
   "outputs": [],
   "source": [
    "# consider only nonstop flights\n",
    "nonstop_df = df[df['isNonStop']]"
   ]
  },
  {
   "cell_type": "code",
   "execution_count": 5,
   "id": "1d2a5ffe",
   "metadata": {},
   "outputs": [],
   "source": [
    "# create new dataset listing distance, duration, airline, and airplane type for all non-stop flights\n",
    "cols = {\n",
    "    'totalTravelDistance': 'Distance',\n",
    "    'travelDuration': 'Duration',\n",
    "    'segmentsAirlineName': 'Airline',\n",
    "    'segmentsEquipmentDescription' : 'Airplane Type'\n",
    "}\n",
    "nonstop_df = nonstop_df.rename(columns=cols)\n",
    "# keep only the columns we want\n",
    "nonstop_df = nonstop_df[cols.values()]\n"
   ]
  },
  {
   "cell_type": "code",
   "execution_count": 6,
   "id": "87e33a3b",
   "metadata": {},
   "outputs": [],
   "source": [
    "import re\n",
    "\n",
    "def parse_duration(s):\n",
    "    match = re.match(r'PT(?:(\\d+)H)?(?:(\\d+)M)?', s)\n",
    "    if match:\n",
    "        hours = int(match.group(1)) if match.group(1) else 0\n",
    "        minutes = int(match.group(2)) if match.group(2) else 0\n",
    "        return hours + minutes / 60\n",
    "    return None\n",
    "\n",
    "nonstop_df['Duration (Hrs.)'] = nonstop_df['Duration'].apply(parse_duration)"
   ]
  },
  {
   "cell_type": "code",
   "execution_count": 7,
   "id": "3c5c7f33",
   "metadata": {},
   "outputs": [],
   "source": [
    "nonstop_df['Speed'] = nonstop_df['Distance'] / nonstop_df['Duration (Hrs.)']"
   ]
  },
  {
   "cell_type": "code",
   "execution_count": 8,
   "id": "a2f3319f",
   "metadata": {},
   "outputs": [],
   "source": [
    "nonstop_df.dropna(subset=['Distance', 'Duration (Hrs.)', 'Speed'], inplace=True)"
   ]
  },
  {
   "cell_type": "code",
   "execution_count": 9,
   "id": "f7413782",
   "metadata": {},
   "outputs": [],
   "source": [
    "nonstop_df.drop_duplicates(inplace=True)"
   ]
  },
  {
   "cell_type": "code",
   "execution_count": 10,
   "id": "c0460ba2",
   "metadata": {},
   "outputs": [],
   "source": [
    "nonstop_df_final = nonstop_df[['Distance', 'Duration (Hrs.)', 'Airline', 'Airplane Type', 'Speed']]"
   ]
  },
  {
   "cell_type": "code",
   "execution_count": 11,
   "id": "6fc29df8",
   "metadata": {},
   "outputs": [
    {
     "data": {
      "text/html": [
       "<div>\n",
       "<style scoped>\n",
       "    .dataframe tbody tr th:only-of-type {\n",
       "        vertical-align: middle;\n",
       "    }\n",
       "\n",
       "    .dataframe tbody tr th {\n",
       "        vertical-align: top;\n",
       "    }\n",
       "\n",
       "    .dataframe thead th {\n",
       "        text-align: right;\n",
       "    }\n",
       "</style>\n",
       "<table border=\"1\" class=\"dataframe\">\n",
       "  <thead>\n",
       "    <tr style=\"text-align: right;\">\n",
       "      <th></th>\n",
       "      <th>Distance</th>\n",
       "      <th>Duration (Hrs.)</th>\n",
       "      <th>Airline</th>\n",
       "      <th>Airplane Type</th>\n",
       "      <th>Speed</th>\n",
       "    </tr>\n",
       "  </thead>\n",
       "  <tbody>\n",
       "    <tr>\n",
       "      <th>0</th>\n",
       "      <td>947.0</td>\n",
       "      <td>2.566667</td>\n",
       "      <td>Delta</td>\n",
       "      <td>Airbus A321</td>\n",
       "      <td>368.961039</td>\n",
       "    </tr>\n",
       "    <tr>\n",
       "      <th>1</th>\n",
       "      <td>947.0</td>\n",
       "      <td>2.583333</td>\n",
       "      <td>Delta</td>\n",
       "      <td>Airbus A321</td>\n",
       "      <td>366.580645</td>\n",
       "    </tr>\n",
       "    <tr>\n",
       "      <th>2</th>\n",
       "      <td>228.0</td>\n",
       "      <td>1.366667</td>\n",
       "      <td>American Airlines</td>\n",
       "      <td>Canadian Regional Jet 700</td>\n",
       "      <td>166.829268</td>\n",
       "    </tr>\n",
       "    <tr>\n",
       "      <th>3</th>\n",
       "      <td>1207.0</td>\n",
       "      <td>3.283333</td>\n",
       "      <td>Delta</td>\n",
       "      <td>Airbus A321</td>\n",
       "      <td>367.614213</td>\n",
       "    </tr>\n",
       "    <tr>\n",
       "      <th>4</th>\n",
       "      <td>1207.0</td>\n",
       "      <td>3.333333</td>\n",
       "      <td>Delta</td>\n",
       "      <td>Airbus A321</td>\n",
       "      <td>362.100000</td>\n",
       "    </tr>\n",
       "  </tbody>\n",
       "</table>\n",
       "</div>"
      ],
      "text/plain": [
       "   Distance  Duration (Hrs.)            Airline              Airplane Type  \\\n",
       "0     947.0         2.566667              Delta                Airbus A321   \n",
       "1     947.0         2.583333              Delta                Airbus A321   \n",
       "2     228.0         1.366667  American Airlines  Canadian Regional Jet 700   \n",
       "3    1207.0         3.283333              Delta                Airbus A321   \n",
       "4    1207.0         3.333333              Delta                Airbus A321   \n",
       "\n",
       "        Speed  \n",
       "0  368.961039  \n",
       "1  366.580645  \n",
       "2  166.829268  \n",
       "3  367.614213  \n",
       "4  362.100000  "
      ]
     },
     "execution_count": 11,
     "metadata": {},
     "output_type": "execute_result"
    }
   ],
   "source": [
    "nonstop_df_final.head()"
   ]
  },
  {
   "cell_type": "code",
   "execution_count": 12,
   "id": "59ce6661",
   "metadata": {},
   "outputs": [
    {
     "data": {
      "image/png": "[encoded data removed]",
      "text/plain": [
       "<Figure size 1000x500 with 1 Axes>"
      ]
     },
     "metadata": {},
     "output_type": "display_data"
    }
   ],
   "source": [
    "plt.figure(figsize=(10, 5))\n",
    "sns.histplot(nonstop_df_final['Speed'])\n",
    "plt.title(\"Histogram of Flight Speeds\")\n",
    "plt.xlabel(\"Speed\")\n",
    "plt.ylabel(\"Frequency\")\n",
    "plt.show()"
   ]
  },
  {
   "cell_type": "markdown",
   "id": "4158666b",
   "metadata": {},
   "source": [
    "It seems that overall distribution is approximately bell shaped though slightly left-skewed; most speeds fall between 250-450 mph with clear peak around 350 mph which is typical of commerical jet speeds. There is visible secondary bump at lower speeds around 150 mph which might be corresponding to regional or short-haul aircrafts. A few extreme values (beyond 600/700 mph) seems like outliers/anomalies."
   ]
  },
  {
   "cell_type": "code",
   "execution_count": 13,
   "id": "fb20a270",
   "metadata": {},
   "outputs": [
    {
     "name": "stdout",
     "output_type": "stream",
     "text": [
      "Boeing 737-800 Speed KS Test: Statistic=0.05106522438183814, p-value=2.301840507596522e-05\n",
      "The distribution of speeds for Boeing 737-800 is likely not normal.\n"
     ]
    }
   ],
   "source": [
    "speeds_737_800 = nonstop_df_final[nonstop_df_final['Airplane Type'] == 'Boeing 737-800']['Speed']\n",
    "\n",
    "mean_737_800 = speeds_737_800.mean()\n",
    "std_737_800 = speeds_737_800.std()\n",
    "\n",
    "ks_stat, p_value = kstest(speeds_737_800, 'norm', args=(mean_737_800, std_737_800))\n",
    "print(f\"Boeing 737-800 Speed KS Test: Statistic={ks_stat}, p-value={p_value}\")\n",
    "\n",
    "# check if the distribution of speeds for Boeing 737-800 is normal\n",
    "if p_value > 0.05:\n",
    "    print(\"The distribution of speeds for Boeing 737-800 is likely normal.\")\n",
    "else:\n",
    "    print(\"The distribution of speeds for Boeing 737-800 is likely not normal.\")"
   ]
  },
  {
   "cell_type": "code",
   "execution_count": 14,
   "id": "71d9427f",
   "metadata": {},
   "outputs": [
    {
     "name": "stdout",
     "output_type": "stream",
     "text": [
      "Delta Airlines Speed KS Test: Statistic=0.03487566528042031, p-value=0.0004429914034818441\n",
      "The distribution of speeds for Delta Airlines is likely not normal.\n"
     ]
    }
   ],
   "source": [
    "speeds_delta = nonstop_df_final[nonstop_df_final['Airline'] == 'Delta']['Speed']\n",
    "mean_delta = speeds_delta.mean()\n",
    "std_delta = speeds_delta.std()\n",
    "\n",
    "ks_stat, p_value = kstest(speeds_delta, 'norm', args=(mean_delta, std_delta))\n",
    "print(f\"Delta Airlines Speed KS Test: Statistic={ks_stat}, p-value={p_value}\")\n",
    "\n",
    "# check if the distribution of speeds for Delta Airlines is normal\n",
    "if p_value > 0.05:\n",
    "    print(\"The distribution of speeds for Delta Airlines is likely normal.\")\n",
    "else:\n",
    "    print(\"The distribution of speeds for Delta Airlines is likely not normal.\")"
   ]
  },
  {
   "cell_type": "code",
   "execution_count": 15,
   "id": "e929a274",
   "metadata": {},
   "outputs": [],
   "source": [
    "def permutation_test(sample1, sample2, num_permutations=10000):\n",
    "    combined = np.concatenate([sample1, sample2])\n",
    "    n1 = len(sample1)\n",
    "    n2 = len(sample2)\n",
    "    observed_diff = abs(sample1.mean() - sample2.mean())\n",
    "    count = 0\n",
    "\n",
    "    for _ in range(num_permutations):\n",
    "        np.random.shuffle(combined)\n",
    "        new_sample1 = combined[:n1]\n",
    "        new_sample2 = combined[n1:]\n",
    "        new_diff = abs(new_sample1.mean() - new_sample2.mean())\n",
    "        if new_diff > observed_diff: # using strictly greater than because professor used strictly greater than in class\n",
    "            count += 1\n",
    "\n",
    "    return count / num_permutations"
   ]
  },
  {
   "cell_type": "code",
   "execution_count": 16,
   "id": "b3b43e75",
   "metadata": {},
   "outputs": [
    {
     "name": "stdout",
     "output_type": "stream",
     "text": [
      "KS Test between Boeing 737-800 and 737-900: Statistic=0.16661265337075373, p-value=1.4799226656423737e-18\n",
      "The distributions of speeds for Boeing 737-800 and 737-900 are likely not the same.\n"
     ]
    }
   ],
   "source": [
    "speeds_737_900 = nonstop_df_final[nonstop_df_final['Airplane Type'] == 'Boeing 737-900']['Speed']\n",
    "\n",
    "ks_stat, p_value = ks_2samp(speeds_737_800, speeds_737_900)\n",
    "print(f\"KS Test between Boeing 737-800 and 737-900: Statistic={ks_stat}, p-value={p_value}\")\n",
    "\n",
    "# check if the distributions of speeds for Boeing 737-800 and 737-900 are the same\n",
    "if p_value > 0.05:\n",
    "    print(\"The distributions of speeds for Boeing 737-800 and 737-900 are likely the same.\")\n",
    "else:\n",
    "    print(\"The distributions of speeds for Boeing 737-800 and 737-900 are likely not the same.\")"
   ]
  },
  {
   "cell_type": "code",
   "execution_count": 17,
   "id": "ebfdd5dd",
   "metadata": {},
   "outputs": [
    {
     "name": "stdout",
     "output_type": "stream",
     "text": [
      "Permutation Test between Boeing 737-800 and 737-900: p-value=0.0\n",
      "The distributions of speeds for Boeing 737-800 and 737-900 are likely not the same.\n"
     ]
    }
   ],
   "source": [
    "permutation_test_737_800_737_900 = permutation_test(speeds_737_800, speeds_737_900)\n",
    "print(f\"Permutation Test between Boeing 737-800 and 737-900: p-value={permutation_test_737_800_737_900}\")\n",
    "\n",
    "# check if the distributions of speeds for Boeing 737-800 and 737-900 are the same\n",
    "if permutation_test_737_800_737_900 > 0.05:\n",
    "    print(\"The distributions of speeds for Boeing 737-800 and 737-900 are likely the same.\")\n",
    "else:\n",
    "    print(\"The distributions of speeds for Boeing 737-800 and 737-900 are likely not the same.\")"
   ]
  },
  {
   "cell_type": "code",
   "execution_count": 18,
   "id": "444c7cc7",
   "metadata": {},
   "outputs": [
    {
     "name": "stdout",
     "output_type": "stream",
     "text": [
      "KS Test between Delta Airlines and American Airlines: Statistic=0.10721917486475127, p-value=2.9089221191262646e-19\n",
      "The distributions of speeds for Delta Airlines and American Airlines are likely not the same.\n"
     ]
    }
   ],
   "source": [
    "speeds_aa = nonstop_df_final[nonstop_df_final['Airline'] == 'American Airlines']['Speed']\n",
    "\n",
    "ks_stat, p_value = ks_2samp(speeds_delta, speeds_aa)\n",
    "print(f\"KS Test between Delta Airlines and American Airlines: Statistic={ks_stat}, p-value={p_value}\")\n",
    "\n",
    "# check if the distributions of speeds for Delta Airlines and American Airlines are the same\n",
    "if p_value > 0.05:\n",
    "    print(\"The distributions of speeds for Delta Airlines and American Airlines are likely the same.\")\n",
    "else:\n",
    "    print(\"The distributions of speeds for Delta Airlines and American Airlines are likely not the same.\")"
   ]
  },
  {
   "cell_type": "code",
   "execution_count": 19,
   "id": "fd64cab0",
   "metadata": {},
   "outputs": [
    {
     "name": "stdout",
     "output_type": "stream",
     "text": [
      "Permutation Test between Delta Airlines and American Airlines: p-value=0.0\n",
      "The distributions of speeds for Delta Airlines and American Airlines are likely not the same.\n"
     ]
    }
   ],
   "source": [
    "permutation_test_delta_aa = permutation_test(speeds_delta, speeds_aa)\n",
    "print(f\"Permutation Test between Delta Airlines and American Airlines: p-value={permutation_test_delta_aa}\")\n",
    "\n",
    "# check if the distributions of speeds for Delta Airlines and American Airlines are the same\n",
    "if permutation_test_delta_aa > 0.05:\n",
    "    print(\"The distributions of speeds for Delta Airlines and American Airlines are likely the same.\")\n",
    "else:\n",
    "    print(\"The distributions of speeds for Delta Airlines and American Airlines are likely not the same.\")"
   ]
  },
  {
   "cell_type": "code",
   "execution_count": 20,
   "id": "e728536f",
   "metadata": {},
   "outputs": [],
   "source": [
    "def walds_test(mean1, mean2, var1, var2, n1, n2):\n",
    "    # using sample mean as estimator\n",
    "    w_stat = abs(mean1 - mean2) / np.sqrt((var1 / n1) + (var2 / n2))\n",
    "    p_val = 2 * (1 - norm.cdf(w_stat))\n",
    "    return w_stat, p_val"
   ]
  },
  {
   "cell_type": "code",
   "execution_count": 21,
   "id": "5ad86fc5",
   "metadata": {},
   "outputs": [],
   "source": [
    "def z_test(mean1, mean2, var1, var2, n1, n2):\n",
    "    # treating sample variance as true variance\n",
    "    z_stat = abs(mean1 - mean2) / np.sqrt((var1 / n1) + (var2 / n2))\n",
    "    p_val = 2 * (1 - norm.cdf(z_stat))\n",
    "    return z_stat, p_val"
   ]
  },
  {
   "cell_type": "code",
   "execution_count": 22,
   "id": "aa44dd72",
   "metadata": {},
   "outputs": [],
   "source": [
    "def perform_all_tests(sample1, sample2):\n",
    "    mean1 = sample1.mean()\n",
    "    mean2 = sample2.mean()\n",
    "    var1 = sample1.var()\n",
    "    var2 = sample2.var()\n",
    "    n1 = len(sample1)\n",
    "    n2 = len(sample2)\n",
    "\n",
    "    wald_stat, wald_p_val = walds_test(mean1, mean2, var1, var2, n1, n2)\n",
    "    z_stat, z_p_val = z_test(mean1, mean2, var1, var2, n1, n2)\n",
    "    t_stat, t_p_val = ttest_ind(sample1, sample2, equal_var=False)\n",
    "\n",
    "    return {\n",
    "        'Walds Test': (wald_stat, wald_p_val),\n",
    "        'Z Test': (z_stat, z_p_val),\n",
    "        'T Test': (abs(t_stat), t_p_val) # using absolute value for consistency\n",
    "    } "
   ]
  },
  {
   "cell_type": "code",
   "execution_count": 23,
   "id": "5ed2ff87",
   "metadata": {},
   "outputs": [],
   "source": [
    "def compare_groups(df, column, groups):\n",
    "    for g1, g2 in it.combinations(groups, 2):\n",
    "        speeds1 = df[df[column] == g1]['Speed']\n",
    "        speeds2 = df[df[column] == g2]['Speed']\n",
    "        test_results = perform_all_tests(speeds1, speeds2)\n",
    "\n",
    "        print(f\"------ {g1} vs {g2} ------\")\n",
    "        for test_name, (stat, p_val) in test_results.items():\n",
    "            print(f\"{test_name}: Statistic={stat}, p-value={p_val}\")\n",
    "            if p_val > 0.05:\n",
    "                print(f\"The distributions of speeds for {g1} and {g2} are likely the same.\")\n",
    "            else:\n",
    "                print(f\"The distributions of speeds for {g1} and {g2} are likely not the same.\")\n",
    "        print()"
   ]
  },
  {
   "cell_type": "code",
   "execution_count": 24,
   "id": "f4a199cd",
   "metadata": {},
   "outputs": [
    {
     "name": "stdout",
     "output_type": "stream",
     "text": [
      "------ Boeing 737-800 vs Boeing 737-900 ------\n",
      "Walds Test: Statistic=6.378521562502757, p-value=1.7880563696337504e-10\n",
      "The distributions of speeds for Boeing 737-800 and Boeing 737-900 are likely not the same.\n",
      "Z Test: Statistic=6.378521562502757, p-value=1.7880563696337504e-10\n",
      "The distributions of speeds for Boeing 737-800 and Boeing 737-900 are likely not the same.\n",
      "T Test: Statistic=6.378521562502757, p-value=2.2179431511534902e-10\n",
      "The distributions of speeds for Boeing 737-800 and Boeing 737-900 are likely not the same.\n",
      "\n",
      "------ Boeing 737-800 vs Airbus A321 ------\n",
      "Walds Test: Statistic=9.179236812153048, p-value=0.0\n",
      "The distributions of speeds for Boeing 737-800 and Airbus A321 are likely not the same.\n",
      "Z Test: Statistic=9.179236812153048, p-value=0.0\n",
      "The distributions of speeds for Boeing 737-800 and Airbus A321 are likely not the same.\n",
      "T Test: Statistic=9.179236812153048, p-value=6.82027159333922e-20\n",
      "The distributions of speeds for Boeing 737-800 and Airbus A321 are likely not the same.\n",
      "\n",
      "------ Boeing 737-800 vs Airbus A320 ------\n",
      "Walds Test: Statistic=8.462852170470812, p-value=0.0\n",
      "The distributions of speeds for Boeing 737-800 and Airbus A320 are likely not the same.\n",
      "Z Test: Statistic=8.462852170470812, p-value=0.0\n",
      "The distributions of speeds for Boeing 737-800 and Airbus A320 are likely not the same.\n",
      "T Test: Statistic=8.462852170470812, p-value=3.813127481378351e-17\n",
      "The distributions of speeds for Boeing 737-800 and Airbus A320 are likely not the same.\n",
      "\n",
      "------ Boeing 737-900 vs Airbus A321 ------\n",
      "Walds Test: Statistic=0.9967287077348299, p-value=0.3188962111914859\n",
      "The distributions of speeds for Boeing 737-900 and Airbus A321 are likely the same.\n",
      "Z Test: Statistic=0.9967287077348299, p-value=0.3188962111914859\n",
      "The distributions of speeds for Boeing 737-900 and Airbus A321 are likely the same.\n",
      "T Test: Statistic=0.9967287077348299, p-value=0.3190016958331129\n",
      "The distributions of speeds for Boeing 737-900 and Airbus A321 are likely the same.\n",
      "\n",
      "------ Boeing 737-900 vs Airbus A320 ------\n",
      "Walds Test: Statistic=12.432735347566672, p-value=0.0\n",
      "The distributions of speeds for Boeing 737-900 and Airbus A320 are likely not the same.\n",
      "Z Test: Statistic=12.432735347566672, p-value=0.0\n",
      "The distributions of speeds for Boeing 737-900 and Airbus A320 are likely not the same.\n",
      "T Test: Statistic=12.432735347566672, p-value=1.7344928841039056e-34\n",
      "The distributions of speeds for Boeing 737-900 and Airbus A320 are likely not the same.\n",
      "\n",
      "------ Airbus A321 vs Airbus A320 ------\n",
      "Walds Test: Statistic=15.716454206339641, p-value=0.0\n",
      "The distributions of speeds for Airbus A321 and Airbus A320 are likely not the same.\n",
      "Z Test: Statistic=15.716454206339641, p-value=0.0\n",
      "The distributions of speeds for Airbus A321 and Airbus A320 are likely not the same.\n",
      "T Test: Statistic=15.716454206339641, p-value=6.434418619509962e-54\n",
      "The distributions of speeds for Airbus A321 and Airbus A320 are likely not the same.\n",
      "\n"
     ]
    }
   ],
   "source": [
    "airplane_types = ['Boeing 737-800', 'Boeing 737-900', 'Airbus A321', 'Airbus A320']\n",
    "compare_groups(nonstop_df_final, 'Airplane Type', airplane_types)"
   ]
  },
  {
   "cell_type": "code",
   "execution_count": 25,
   "id": "103e212b",
   "metadata": {},
   "outputs": [
    {
     "name": "stdout",
     "output_type": "stream",
     "text": [
      "------ American Airlines vs Delta ------\n",
      "Walds Test: Statistic=4.6097820274273005, p-value=4.030913722585794e-06\n",
      "The distributions of speeds for American Airlines and Delta are likely not the same.\n",
      "Z Test: Statistic=4.6097820274273005, p-value=4.030913722585794e-06\n",
      "The distributions of speeds for American Airlines and Delta are likely not the same.\n",
      "T Test: Statistic=4.609782027427301, p-value=4.099190101146101e-06\n",
      "The distributions of speeds for American Airlines and Delta are likely not the same.\n",
      "\n",
      "------ American Airlines vs Alaska Airlines ------\n",
      "Walds Test: Statistic=13.032633681955415, p-value=0.0\n",
      "The distributions of speeds for American Airlines and Alaska Airlines are likely not the same.\n",
      "Z Test: Statistic=13.032633681955415, p-value=0.0\n",
      "The distributions of speeds for American Airlines and Alaska Airlines are likely not the same.\n",
      "T Test: Statistic=13.032633681955415, p-value=8.926371351006344e-33\n",
      "The distributions of speeds for American Airlines and Alaska Airlines are likely not the same.\n",
      "\n",
      "------ American Airlines vs JetBlue Airways ------\n",
      "Walds Test: Statistic=1.4379928401480073, p-value=0.15043608565723798\n",
      "The distributions of speeds for American Airlines and JetBlue Airways are likely the same.\n",
      "Z Test: Statistic=1.4379928401480073, p-value=0.15043608565723798\n",
      "The distributions of speeds for American Airlines and JetBlue Airways are likely the same.\n",
      "T Test: Statistic=1.4379928401480073, p-value=0.15051688011984496\n",
      "The distributions of speeds for American Airlines and JetBlue Airways are likely the same.\n",
      "\n",
      "------ Delta vs Alaska Airlines ------\n",
      "Walds Test: Statistic=15.017380486634222, p-value=0.0\n",
      "The distributions of speeds for Delta and Alaska Airlines are likely not the same.\n",
      "Z Test: Statistic=15.017380486634222, p-value=0.0\n",
      "The distributions of speeds for Delta and Alaska Airlines are likely not the same.\n",
      "T Test: Statistic=15.017380486634222, p-value=2.719827932632621e-41\n",
      "The distributions of speeds for Delta and Alaska Airlines are likely not the same.\n",
      "\n",
      "------ Delta vs JetBlue Airways ------\n",
      "Walds Test: Statistic=2.2842807991902863, p-value=0.02235503359462787\n",
      "The distributions of speeds for Delta and JetBlue Airways are likely not the same.\n",
      "Z Test: Statistic=2.2842807991902863, p-value=0.02235503359462787\n",
      "The distributions of speeds for Delta and JetBlue Airways are likely not the same.\n",
      "T Test: Statistic=2.2842807991902863, p-value=0.022405830886963223\n",
      "The distributions of speeds for Delta and JetBlue Airways are likely not the same.\n",
      "\n",
      "------ Alaska Airlines vs JetBlue Airways ------\n",
      "Walds Test: Statistic=13.06700537896315, p-value=0.0\n",
      "The distributions of speeds for Alaska Airlines and JetBlue Airways are likely not the same.\n",
      "Z Test: Statistic=13.06700537896315, p-value=0.0\n",
      "The distributions of speeds for Alaska Airlines and JetBlue Airways are likely not the same.\n",
      "T Test: Statistic=13.06700537896315, p-value=6.416688791406602e-34\n",
      "The distributions of speeds for Alaska Airlines and JetBlue Airways are likely not the same.\n",
      "\n"
     ]
    }
   ],
   "source": [
    "airlines = ['American Airlines', 'Delta', 'Alaska Airlines', 'JetBlue Airways']\n",
    "compare_groups(nonstop_df_final, 'Airline', airlines)"
   ]
  },
  {
   "cell_type": "code",
   "execution_count": 26,
   "id": "569a3af6",
   "metadata": {},
   "outputs": [],
   "source": [
    "def label_route(distance):\n",
    "    if distance < 1000:\n",
    "        return 'Short'\n",
    "    elif distance < 2200:\n",
    "        return 'Medium'\n",
    "    else:\n",
    "        return 'Long'\n",
    "    \n",
    "nonstop_df_final['Route Type'] = nonstop_df_final['Distance'].apply(label_route)"
   ]
  },
  {
   "cell_type": "code",
   "execution_count": 27,
   "id": "7af14d9f",
   "metadata": {},
   "outputs": [
    {
     "name": "stdout",
     "output_type": "stream",
     "text": [
      "------ Short vs Medium ------\n",
      "Walds Test: Statistic=128.96043492473555, p-value=0.0\n",
      "The distributions of speeds for Short and Medium are likely not the same.\n",
      "Z Test: Statistic=128.96043492473555, p-value=0.0\n",
      "The distributions of speeds for Short and Medium are likely not the same.\n",
      "T Test: Statistic=128.96043492473558, p-value=0.0\n",
      "The distributions of speeds for Short and Medium are likely not the same.\n",
      "\n",
      "------ Short vs Long ------\n",
      "Walds Test: Statistic=162.76526278072564, p-value=0.0\n",
      "The distributions of speeds for Short and Long are likely not the same.\n",
      "Z Test: Statistic=162.76526278072564, p-value=0.0\n",
      "The distributions of speeds for Short and Long are likely not the same.\n",
      "T Test: Statistic=162.76526278072566, p-value=0.0\n",
      "The distributions of speeds for Short and Long are likely not the same.\n",
      "\n",
      "------ Medium vs Long ------\n",
      "Walds Test: Statistic=51.662021186645546, p-value=0.0\n",
      "The distributions of speeds for Medium and Long are likely not the same.\n",
      "Z Test: Statistic=51.662021186645546, p-value=0.0\n",
      "The distributions of speeds for Medium and Long are likely not the same.\n",
      "T Test: Statistic=51.66202118664555, p-value=0.0\n",
      "The distributions of speeds for Medium and Long are likely not the same.\n",
      "\n"
     ]
    }
   ],
   "source": [
    "route_types = nonstop_df_final['Route Type'].unique()\n",
    "compare_groups(nonstop_df_final, 'Route Type', route_types)"
   ]
  }
 ],
 "metadata": {
  "kernelspec": {
   "display_name": "Python (jupyter_venv)",
   "language": "python",
   "name": "jupyter_venv"
  },
  "language_info": {
   "codemirror_mode": {
    "name": "ipython",
    "version": 3
   },
   "file_extension": ".py",
   "mimetype": "text/x-python",
   "name": "python",
   "nbconvert_exporter": "python",
   "pygments_lexer": "ipython3",
   "version": "3.13.2"
  }
 },
 "nbformat": 4,
 "nbformat_minor": 5
}
